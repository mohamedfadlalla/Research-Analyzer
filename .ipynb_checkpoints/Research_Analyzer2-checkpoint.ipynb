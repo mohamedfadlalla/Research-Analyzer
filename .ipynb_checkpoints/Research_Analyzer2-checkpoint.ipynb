{
 "cells": [
  {
   "cell_type": "code",
   "execution_count": 2,
   "metadata": {
    "cellView": "form",
    "id": "p3TQ2rbDUAAh"
   },
   "outputs": [],
   "source": [
    "#@title Research Analyzer\n",
    "#@markdown This is part of the reasearch analyzer project"
   ]
  },
  {
   "cell_type": "code",
   "execution_count": null,
   "metadata": {},
   "outputs": [],
   "source": [
    "#@title Installing dependancies\n",
    "%%capture\n",
    "!pip install marker-pdf\n",
    "!pip install gradio\n",
    "!pip install scidownl\n",
    "!pip install langchain\n",
    "!pip install langchain-google-genai\n",
    "!pip install langchain-groq\n",
    "!git clone https://github.com/mohamedfadlalla/Research-Analyzer.git\n"
   ]
  },
  {
   "cell_type": "code",
   "execution_count": 5,
   "metadata": {},
   "outputs": [],
   "source": [
    "#@title Setup\n",
    "from langchain_google_genai import ChatGoogleGenerativeAI\n",
    "from langchain_core.prompts import ChatPromptTemplate\n",
    "\n",
    "\n",
    "import re\n",
    "import os \n",
    "\n",
    "from langchain_core.prompts import ChatPromptTemplate\n",
    "from langchain_groq import ChatGroq\n",
    "\n",
    "\n",
    "\n",
    "# setup google gemini api keys\n",
    "import os\n",
    "from dotenv import load_dotenv\n",
    "import platform\n",
    "\n",
    "if platform.system() == \"Windows\":\n",
    "    load_dotenv()\n",
    "    GOOGLE_API_KEY = os.getenv(\"GOOGLE_API_KEY\")\n",
    "    GROQ_API_KEY = os.getenv(\"GROQ_API_KEY\")\n",
    "elif platform.system() == \"Linux\":\n",
    "    import sys\n",
    "    sys.path.append('/content/Research-Analyzer')\n",
    "    os.chdir('/content/Research-Analyzer')\n",
    "    from google.colab import userdata\n",
    "    GOOGLE_API_KEY = userdata.get('GOOGLE_AI_STUDIO2')\n",
    "    GROQ_API_KEY = userdata.get('GROQ_API_KEY')\n",
    "else:\n",
    "    raise OSError(\"Unsupported operating system\")\n",
    "\n",
    "\n",
    "pro = ChatGoogleGenerativeAI(model=\"gemini-1.5-pro\", google_api_key=GOOGLE_API_KEY, temperature=0.4, convert_system_message_to_human=True)\n",
    "flash = ChatGoogleGenerativeAI(model=\"gemini-1.5-flash\", google_api_key=GOOGLE_API_KEY, temperature=0.3, convert_system_message_to_human=True)\n",
    "\n",
    "llm = ChatGroq(\n",
    "    temperature=0,\n",
    "    # model_name=\"mixtral-8x7b-32768\",\n",
    "    # model_name=\"llama3-70b-8192\",\n",
    "    model_name=\"llama-3.1-70b-versatile\",\n",
    "    # model_name=\"mixtral-8x7b-32768\",\n",
    "    # model_name=\"llama3-8b-8192\",\n",
    "    # model_name=\"llama-3.1-8b-instant\",\n",
    "    # model_name=\"gemma2-9b-it\",\n",
    "    \n",
    "    groq_api_key=GROQ_API_KEY \n",
    ")\n",
    "\n",
    "import gradio as gr\n",
    "import summary  # Make sure the 'summary' module is in your Python path\n",
    "import functions  # Make sure the 'functions' module is in your Python path\n",
    "\n",
    "\n",
    "# Define the function to summarize the file, generate the workflow graph, and save the results to 'summary.md'\n",
    "def process_file(file):\n",
    "    if file is None:\n",
    "        return \"No file uploaded\", None, None\n",
    "    \n",
    "    file_path = file.name\n",
    "    results = summary.summarize(file_path, llm)\n",
    "    \n",
    "    # Save the results to summary.md\n",
    "    with open(\"summary.md\", \"w\") as f:\n",
    "        f.write(results)\n",
    "    \n",
    "    # Generate the workflow graph\n",
    "    functions.get_workflow(file_path, llm)\n",
    "    \n",
    "    return results, \"summary.md\", \"graph.png\"\n",
    "\n",
    "\n"
   ]
  },
  {
   "cell_type": "code",
   "execution_count": null,
   "metadata": {
    "scrolled": true
   },
   "outputs": [],
   "source": [
    "#@title Launch the App\n",
    "\n",
    "\n",
    "\n",
    "\n",
    "interface = gr.Interface(fn=process_file, inputs=gr.File(label=\"Upload File\"), outputs=[gr.Markdown(),\n",
    "                                                                      gr.File(),\n",
    "                                                                      gr.Image()\n",
    "                                                                     ])\n",
    "interface.launch()\n"
   ]
  }
 ],
 "metadata": {
  "accelerator": "GPU",
  "colab": {
   "gpuType": "T4",
   "provenance": []
  },
  "kernelspec": {
   "display_name": "Python 3 (ipykernel)",
   "language": "python",
   "name": "python3"
  },
  "language_info": {
   "codemirror_mode": {
    "name": "ipython",
    "version": 3
   },
   "file_extension": ".py",
   "mimetype": "text/x-python",
   "name": "python",
   "nbconvert_exporter": "python",
   "pygments_lexer": "ipython3",
   "version": "3.11.5"
  }
 },
 "nbformat": 4,
 "nbformat_minor": 4
}
