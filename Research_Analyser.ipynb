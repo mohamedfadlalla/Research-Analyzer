{
  "nbformat": 4,
  "nbformat_minor": 0,
  "metadata": {
    "colab": {
      "provenance": []
    },
    "kernelspec": {
      "name": "python3",
      "display_name": "Python 3"
    },
    "language_info": {
      "name": "python"
    }
  },
  "cells": [
    {
      "cell_type": "markdown",
      "source": [
        "# PDF Acquisition"
      ],
      "metadata": {
        "id": "yjdblManpnnM"
      }
    },
    {
      "cell_type": "code",
      "source": [
        "#@title: Depandances for Scihub downloader\n",
        "%%capture\n",
        "!pip3 install -U scidownl\n",
        ""
      ],
      "metadata": {
        "id": "bYq4tu_roBQg"
      },
      "execution_count": 1,
      "outputs": []
    },
    {
      "cell_type": "code",
      "source": [
        "from scidownl import scihub_download\n",
        "import pandas as pd\n",
        "import os"
      ],
      "metadata": {
        "id": "V8cG4ZIfoIf_"
      },
      "execution_count": 2,
      "outputs": []
    },
    {
      "cell_type": "code",
      "source": [
        "ex = \"doi.org/10.1145/3375633\"\n",
        "paper = input(\"Please enter the doi of the paper here: \")\n",
        "paper_type = \"doi\"\n",
        "out = \"./paper.pdf\"\n",
        "proxies = {\n",
        "    'http': 'socks5://127.0.0.1:7890'\n",
        "}\n",
        "scihub_download(paper, paper_type=paper_type, out=out)#, proxies=proxies)"
      ],
      "metadata": {
        "colab": {
          "base_uri": "https://localhost:8080/"
        },
        "id": "BdNn168OoOwq",
        "outputId": "82761d5b-b72c-4315-9fe4-3d00536524da"
      },
      "execution_count": 6,
      "outputs": [
        {
          "name": "stdout",
          "output_type": "stream",
          "text": [
            "Please enter the doi of the paper here: doi.org/10.1145/3375633\n"
          ]
        },
        {
          "output_type": "stream",
          "name": "stderr",
          "text": [
            "\u001b[1m[INFO]\u001b[0m | \u001b[32m2024/07/08 14:00:58\u001b[0m | \u001b[1mChoose scihub url [0]: http://sci-hub.ru\u001b[0m\n",
            "\u001b[1m[INFO]\u001b[0m | \u001b[32m2024/07/08 14:00:58\u001b[0m | \u001b[1m<- Request: scihub_url=http://sci-hub.ru, source=DoiSource[type=doi, id=doi.org/10.1145/3375633], proxies={}\u001b[0m\n",
            "\u001b[1m[INFO]\u001b[0m | \u001b[32m2024/07/08 14:00:59\u001b[0m | \u001b[1m-> Response: status_code=200, content_length=7868\u001b[0m\n",
            "\u001b[1m[INFO]\u001b[0m | \u001b[32m2024/07/08 14:00:59\u001b[0m | \u001b[1m* Extracted information: {'url': 'http://sci-hub.ru/downloads/2021-06-09/4a/beschastnikh2020.pdf', 'title': 'Visualizing Distributed System Executions. ACM Transactions on Software Engineering and Methodology, 29(2), 1–38'}\u001b[0m\n"
          ]
        },
        {
          "output_type": "stream",
          "name": "stdout",
          "text": [
            "100% [==================================================] 2522115/2522115\n"
          ]
        },
        {
          "output_type": "stream",
          "name": "stderr",
          "text": [
            "\u001b[1m[INFO]\u001b[0m | \u001b[32m2024/07/08 14:01:01\u001b[0m | \u001b[1m↓ Successfully download the url to: ./one_paper2.pdf\u001b[0m\n"
          ]
        }
      ]
    },
    {
      "cell_type": "code",
      "source": [
        "# prompt: Upload a file and rename it to paper.pdf, if the file is not a pdf file raise an error\n",
        "\n",
        "from google.colab import files\n",
        "\n",
        "uploaded = files.upload()\n",
        "\n",
        "if not list(uploaded.keys())[0].endswith('.pdf'):\n",
        "  raise ValueError('Uploaded file is not a pdf file.')\n",
        "\n",
        "os.rename(list(uploaded.keys())[0], 'paper.pdf')\n"
      ],
      "metadata": {
        "id": "u871l3MWPQ7c"
      },
      "execution_count": null,
      "outputs": []
    },
    {
      "cell_type": "markdown",
      "source": [
        "# Markdown Extraction with Marker"
      ],
      "metadata": {
        "id": "I7w_hmCOpvnd"
      }
    },
    {
      "cell_type": "code",
      "execution_count": null,
      "metadata": {
        "id": "p3TQ2rbDUAAh",
        "cellView": "form"
      },
      "outputs": [],
      "source": [
        "#@title dependances\n",
        "!pip install marker-pdf"
      ]
    },
    {
      "cell_type": "code",
      "source": [
        "!marker_single /content/paper.pdf /content/output/ --batch_multiplier 2 --max_pages 10 --langs English"
      ],
      "metadata": {
        "id": "TlzWKPpHUHNL"
      },
      "execution_count": null,
      "outputs": []
    },
    {
      "cell_type": "markdown",
      "source": [
        "# Extracting the Methodology Section\n",
        "**Objective:** Isolate the methodology section from the segmented markdown for further analysis.\n",
        "- **Action Items:**\n",
        "  - From the parsed sections, specifically extract the text under the \"Methodology\" heading.\n",
        "  - Handle variations in heading titles like \"Methods\" or \"Materials and Methods.\"\n"
      ],
      "metadata": {
        "id": "RogGmG7cp8-e"
      }
    },
    {
      "cell_type": "code",
      "source": [
        "import re\n",
        "\n",
        "def extract_outline(file_path):\n",
        "    outline = []\n",
        "    with open(file_path, 'r') as file:\n",
        "        for line in file:\n",
        "            header_match = re.match(r'^(#+)\\s+(.*)', line)\n",
        "            if header_match:\n",
        "                level = len(header_match.group(1))\n",
        "                title = header_match.group(2)\n",
        "                outline.append((header_match.group(1), title))\n",
        "    return outline\n",
        "\n",
        "def print_outline(outline):\n",
        "    for hashes, title in outline:\n",
        "        print(hashes + ' ' + title)\n",
        "\n",
        "file_path = '/mnt/data/manuscript.md'\n",
        "outline = extract_outline(file_path)\n",
        "print_outline(outline)\n"
      ],
      "metadata": {
        "id": "QGyWoVDrp-A0"
      },
      "execution_count": null,
      "outputs": []
    },
    {
      "cell_type": "code",
      "source": [
        "# Prepare the outline variable\n",
        "outline = \"\"\"# Chapter One: Introduction and Literature Review\n",
        "# Chapter Two: Materials and Methods\n",
        "## Target Identification\n",
        "## Control Selection\n",
        "## Ligand Preparation\n",
        "## Binding Site Identification and Grid Generation\n",
        "## Molecular Docking\n",
        "## Molecular Dynamics\n",
        "# Chapter Three: Results\n",
        "## Molecular Docking\n",
        "## Molecular Dynamics\n",
        "## ADME Properties Prediction\n",
        "# Chapter Four: Discussion\n",
        "## Binding Site Identification\n",
        "## Molecular Docking\n",
        "### Discussion for SP Docking Results:\n",
        "### Discussion for XP Docking Results:\n",
        "### Top Compound Discussion\n",
        "## Molecular Dynamics\n",
        "## ADME Properties Prediction\n",
        "# Conclusion\n",
        "# Recommendations\n",
        "# References\n",
        "# Appendices\n",
        "# Citation\"\"\"\n"
      ],
      "metadata": {
        "id": "GS_iQeEBWNB3"
      },
      "execution_count": 1,
      "outputs": []
    },
    {
      "cell_type": "code",
      "source": [
        "%%capture\n",
        "!pip install langchain\n",
        "!pip install langchain_groq\n"
      ],
      "metadata": {
        "id": "sCwKbjvMX_UP"
      },
      "execution_count": null,
      "outputs": []
    },
    {
      "cell_type": "code",
      "source": [],
      "metadata": {
        "id": "N8ECxqFQajjJ"
      },
      "execution_count": null,
      "outputs": []
    },
    {
      "cell_type": "code",
      "source": [
        "from langchain_core.prompts import ChatPromptTemplate\n",
        "from langchain_groq import ChatGroq\n"
      ],
      "metadata": {
        "id": "NN93TF30WvUV"
      },
      "execution_count": 4,
      "outputs": []
    },
    {
      "cell_type": "code",
      "source": [
        "from google.colab import userdata\n",
        "GROQ_API_KEY = userdata.get('GROQ_API_KEY')"
      ],
      "metadata": {
        "id": "wwraOnO1YTv2"
      },
      "execution_count": 8,
      "outputs": []
    },
    {
      "cell_type": "code",
      "source": [
        "\n",
        "\n",
        "# Create the payload with the outline and the prompt\n",
        "\n",
        "\n",
        "chat = ChatGroq(\n",
        "    temperature=0,\n",
        "    model_name=\"llama3-8b-8192\",\n",
        "    max_tokens=50,\n",
        "    groq_api_key=GROQ_API_KEY  # Optional if not set as an environment variable\n",
        ")\n",
        "\n",
        "system = \"\"\"\n",
        "###instructions###\n",
        "You will receive an outline of a scientific paper in the format shown in the expected input. Extract and present only the highest level heading corresponding to the methods section, with no other output.\n",
        "\n",
        "**Expected Input:**\n",
        "#abstract\n",
        "#introduction\n",
        "#method\n",
        "##method 1\n",
        "#results\n",
        "#conclusion\n",
        "\n",
        "**Expected Output:**\n",
        "#method\n",
        "\n",
        "\"\"\"\n",
        "\n",
        "text = f\"\"\"{outline}\"\"\"\n",
        "prompt = ChatPromptTemplate.from_messages([(\"system\", system), (\"human\", text)])\n",
        "\n",
        "chain = prompt | chat\n",
        "response = chain.invoke({})\n",
        "print(response.content)"
      ],
      "metadata": {
        "colab": {
          "base_uri": "https://localhost:8080/"
        },
        "id": "o0RlXtxQTiiM",
        "outputId": "7e5d35a0-a54f-4a3a-a06c-06d50b3c9e77"
      },
      "execution_count": 18,
      "outputs": [
        {
          "output_type": "stream",
          "name": "stdout",
          "text": [
            "# Chapter Two: Materials and Methods\n"
          ]
        }
      ]
    },
    {
      "cell_type": "code",
      "source": [
        "import re\n",
        "\n",
        "def extract_section(file_path, section_title):\n",
        "    section_content = []\n",
        "    inside_section = False\n",
        "    section_level = None\n",
        "\n",
        "    with open(file_path, 'r') as file:\n",
        "        for line in file:\n",
        "            header_match = re.match(r'^(#+)\\s+(.*)', line)\n",
        "            if header_match:\n",
        "                level = len(header_match.group(1))\n",
        "                title = header_match.group(2)\n",
        "\n",
        "                if inside_section:\n",
        "                    if level <= section_level:\n",
        "                        break\n",
        "                if header_match.group(1) + ' ' + title == section_title:\n",
        "                    inside_section = True\n",
        "                    section_level = level\n",
        "\n",
        "            if inside_section:\n",
        "                section_content.append(line)\n",
        "\n",
        "    return ''.join(section_content)\n",
        "\n",
        "\n",
        "file_path = 'manuscript.md'\n",
        "section_title = response.content\n",
        "method = extract_section(file_path, section_title)"
      ],
      "metadata": {
        "id": "kkisie-yTgs2"
      },
      "execution_count": null,
      "outputs": []
    },
    {
      "cell_type": "code",
      "source": [],
      "metadata": {
        "id": "7v_dig2-h2BD"
      },
      "execution_count": null,
      "outputs": []
    },
    {
      "cell_type": "markdown",
      "source": [
        "# Creating Methodology Graphs with Graphviz\n",
        "**Objective:** Visualize the methodology section as a workflow graph.\n",
        "- **Action Items:**\n",
        "  - Install Graphviz in your Python environment.\n",
        "  - Analyze the methodology text to identify key steps and their interconnections.\n",
        "  - Design and implement a Graphviz script to create a diagram that represents these steps. This may involve defining nodes for each step and edges to show the sequence or relationship between them.\n",
        "  - Ensure that the generated graph can be easily displayed within your Streamlit app or Google Colab notebook."
      ],
      "metadata": {
        "id": "IlckXLp5p-7c"
      }
    },
    {
      "cell_type": "code",
      "source": [
        "from graphviz import Digraph\n",
        "\n",
        "dot = Digraph(comment='Materials and Methods')\n",
        "\n",
        "# Adding nodes\n",
        "dot.node('A', 'Target Identification')\n",
        "dot.node('B', 'Control Selection')\n",
        "dot.node('C', 'Ligand Preparation')\n",
        "dot.node('D', 'Binding Site Identification and Grid Generation')\n",
        "dot.node('E', 'Molecular Docking')\n",
        "dot.node('F', 'Molecular Dynamics')\n",
        "\n",
        "# Adding edges\n",
        "dot.edge('A', 'B', 'Defines Control')\n",
        "dot.edge('A', 'C', 'Inputs for Ligand Prep')\n",
        "dot.edge('C', 'D', 'Prepared Ligands')\n",
        "dot.edge('D', 'E', 'Grid Info & Ligands')\n",
        "dot.edge('E', 'F', 'Selected Compounds')\n",
        "\n",
        "# Render the output\n",
        "dot.render('materials_methods_graph', format='png', view=True)\n",
        "dot"
      ],
      "metadata": {
        "colab": {
          "base_uri": "https://localhost:8080/",
          "height": 35
        },
        "id": "zAS7thSgil2t",
        "outputId": "46660875-1b2c-4de1-9052-b4d95c0f14a0"
      },
      "execution_count": 29,
      "outputs": [
        {
          "output_type": "execute_result",
          "data": {
            "text/plain": [
              "'materials_methods_graph.png'"
            ],
            "application/vnd.google.colaboratory.intrinsic+json": {
              "type": "string"
            }
          },
          "metadata": {},
          "execution_count": 29
        }
      ]
    },
    {
      "cell_type": "code",
      "source": [
        "from graphviz import Digraph\n",
        "\n",
        "dot = Digraph(comment='Research workflow on Lepidium sativum and blood glucose reduction')\n",
        "\n",
        "dot.node('Literature Review', 'Analyze existing research')\n",
        "dot.node('Target Identification', 'Select ABCC8 (Q14654)')\n",
        "dot.node('Control Selection', 'Choose Repaglinide & Tolbutamide')\n",
        "dot.node('Ligand Information Gathering', 'Retrieve ligand names and SMILES')\n",
        "dot.node('Ligand Preparation', 'Prepare ligands with LigPrep')\n",
        "dot.node('Binding Site Identification', 'Identify binding site on ABCC8 using SiteMap')\n",
        "dot.node('Grid Generation', 'Generate receptor grid around binding site')\n",
        "dot.node('Molecular Docking', 'Perform docking with Glide (SP mode)')\n",
        "dot.node('Docking Score Selection', 'Select compounds with scores > -8.00')\n",
        "dot.node('Molecular Dynamics Setup', 'Prepare system for MD simulations')\n",
        "dot.node('System Definition', 'Define protein, water, ions, and ligand topologies')\n",
        "dot.node('Equilibration', 'Equilibrate system for 1 ns')\n",
        "dot.node('Production Run', 'Perform 5 ns production MD run')\n",
        "dot.node('Results Analysis', 'Analyze MD simulation outcomes')\n",
        "\n",
        "dot.edge('Literature Review', 'Target Identification', 'informs selection')\n",
        "dot.edge('Target Identification', 'Control Selection', 'guides selection')\n",
        "dot.edge('Literature Review', 'Ligand Information Gathering', 'guides identification')\n",
        "dot.edge('Ligand Information Gathering', 'Ligand Preparation', 'uses information')\n",
        "dot.edge('Ligand Preparation', 'Binding Site Identification', 'used for identification')\n",
        "dot.edge('Binding Site Identification', 'Grid Generation', 'basis for grid')\n",
        "dot.edge('Ligand Preparation', 'Molecular Docking', 'used in docking')\n",
        "dot.edge('Molecular Docking', 'Molecular Dynamics Setup', 'selects compounds')\n",
        "dot.edge('Molecular Dynamics Setup', 'Equilibration', 'prepares for equilibration')\n",
        "dot.edge('Equilibration', 'Production Run', 'leads to production run')\n",
        "dot.edge('Production Run', 'Results Analysis', 'provides outcomes')\n",
        "\n",
        "dot.render('workflow', view=True)"
      ],
      "metadata": {
        "colab": {
          "base_uri": "https://localhost:8080/",
          "height": 35
        },
        "id": "AH54AQE3iu6Y",
        "outputId": "4ad53a1a-1fec-453e-ef36-82cd6bc9e9cf"
      },
      "execution_count": 38,
      "outputs": [
        {
          "output_type": "execute_result",
          "data": {
            "text/plain": [
              "'workflow.pdf'"
            ],
            "application/vnd.google.colaboratory.intrinsic+json": {
              "type": "string"
            }
          },
          "metadata": {},
          "execution_count": 38
        }
      ]
    },
    {
      "cell_type": "code",
      "source": [
        "#@title creation of nodes and edges\n",
        "\n",
        "chat = ChatGroq(\n",
        "    temperature=0,\n",
        "    model_name=\"gemma2-9b-it\",\n",
        "    max_tokens=1024,\n",
        "    groq_api_key=GROQ_API_KEY  # Optional if not set as an environment variable\n",
        ")\n",
        "\n",
        "system = \"\"\"\n",
        "Given a detailed method section from a research paper, your task is to identify and list out the main steps (nodes) and their dependencies (edges). Read through the method section carefully and:\n",
        "- Identify key activities or processes described in each paragraph or significant sentence.\n",
        "- Define each activity as a potential node in a graph.\n",
        "- Determine how these nodes are connected by identifying the dependencies or the flow of information (inputs and outputs) between these steps.\n",
        "- List each node along with a concise description.\n",
        "- Map out the edges between these nodes, clearly describing the direction and the relationship (e.g., \"provides input for,\" \"depends on\").\n",
        "This will create a structured outline of nodes and edges, preparing for the visualization of this information in a flowchart or graph. Please provide a comprehensive list of all nodes and edges as extracted from the text.\n",
        "\n",
        "### Example Output:\n",
        "\n",
        "**Nodes:**\n",
        "1. **Target Identification** - Investigate literature to identify the mechanism of Lepidium sativum in insulin secretion.\n",
        "2. **Control Selection** - Select control drugs like Repaglinide and Tolbutamide for comparison.\n",
        "3. **Ligand Preparation** - Retrieve ligand names and SMILES from literature and prepare using Schrödinger's Ligprep.\n",
        "4. **Binding Site Identification and Grid Generation** - Identify binding site using SiteMap and generate docking grids with specified settings.\n",
        "5. **Molecular Docking** - Perform docking of ligands and controls, selecting compounds with favorable docking scores.\n",
        "6. **Molecular Dynamics** - Execute molecular dynamics simulations using specified settings and analyze the outcomes.\n",
        "\n",
        "**Edges:**\n",
        "- **From Target Identification to Control Selection** - Control drugs defined based on targets identified.\n",
        "- **From Target Identification to Ligand Preparation** - Ligand information sourced based on identified targets.\n",
        "- **From Ligand Preparation to Binding Site Identification and Grid Generation** - Prepared ligands are used to determine the docking site and grid parameters.\n",
        "- **From Binding Site Identification and Grid Generation to Molecular Docking** - Grid settings and binding sites are utilized for docking.\n",
        "- **From Molecular Docking to Molecular Dynamics** - Compounds selected from docking scores are used for dynamic simulations.\n",
        "\"\"\"\n",
        "\n",
        "text = f\"\"\"{method}\"\"\"\n",
        "prompt = ChatPromptTemplate.from_messages([(\"system\", system), (\"human\", text)])\n",
        "\n",
        "chain = prompt | chat\n",
        "nande = chain.invoke({})\n"
      ],
      "metadata": {
        "id": "z0DJ2K0fqCUl"
      },
      "execution_count": 46,
      "outputs": []
    },
    {
      "cell_type": "code",
      "source": [
        "#@title writing the code for the graphviz\n",
        "\n",
        "chat = ChatGroq(\n",
        "    temperature=0,\n",
        "    model_name=\"mixtral-8x7b-32768\",\n",
        "    max_tokens=1024,\n",
        "    groq_api_key=GROQ_API_KEY  # Optional if not set as an environment variable\n",
        ")\n",
        "\n",
        "system = '''\n",
        "### Instructions ###\n",
        "Your task is to create a directed graph visualization based on nodes and edges extracted from the methodology section of a research paper using the Graphviz library in Python. Please follow these detailed steps:\n",
        "\n",
        "1. Import the `graphviz` module.\n",
        "2. Initialize a `Digraph` object to represent your directed graph.\n",
        "3. Add each identified node to your graph using the `node` method. Assign a unique identifier to each node and a brief label that describes the step or component it represents.\n",
        "4. Use the `edge` method to connect nodes. The connections should reflect the dependencies or relationships you mapped out from the paper. Optionally, add labels to the edges to further describe these relationships.\n",
        "5. Adjust the graph's aesthetic properties as needed, such as changing the layout direction, node shape, or other visual attributes.\n",
        "6. Render the graph and display it within your Jupyter notebook.\n",
        "\n",
        "Please provide the complete Python code to execute these steps in a Jupyter notebook environment where the Graphviz library is already installed. The code should end with the graph being displayed directly in the notebook.\n",
        "\n",
        "Example code for rendering and displaying the graph in a Jupyter notebook is also required. Make sure the graph is immediately viewable upon execution of the code.\"\"\"\n",
        "\n",
        "Here's an example Python code snippet that follows these instructions and includes Jupyter notebook display functionality:\n",
        "\n",
        "```\n",
        "from graphviz import Digraph\n",
        "from IPython.display import display\n",
        "\n",
        "# Initialize a Digraph object\n",
        "dot = Digraph()\n",
        "\n",
        "# Adding nodes with unique identifiers and descriptions\n",
        "dot.node('A', 'Start')\n",
        "dot.node('B', 'Step 1: Data Collection')\n",
        "dot.node('C', 'Step 2: Data Cleaning')\n",
        "dot.node('D', 'End')\n",
        "\n",
        "# Adding edges with descriptions of the relationships\n",
        "dot.edge('A', 'B', 'initiates')\n",
        "dot.edge('B', 'C', 'follows')\n",
        "dot.edge('C', 'D', 'concludes')\n",
        "\n",
        "# Set graph aesthetic properties (optional)\n",
        "dot.attr(rankdir='LR', size='10')\n",
        "\n",
        "# Display the graph within the Jupyter notebook\n",
        "display(dot)\n",
        "\n",
        "```\n",
        "'''\n",
        "\n",
        "text = f\"\"\"{nande.content}\"\"\"\n",
        "prompt = ChatPromptTemplate.from_messages([(\"system\", system), (\"human\", text)])\n",
        "\n",
        "chain = prompt | chat\n",
        "llm_response = chain.invoke({})\n"
      ],
      "metadata": {
        "id": "_6LZcAfcGz6S"
      },
      "execution_count": 77,
      "outputs": []
    },
    {
      "cell_type": "code",
      "source": [
        "#@title extract the code form the response and run it\n",
        "import re\n",
        "\n",
        "def extract_code(llm_response):\n",
        "    # Define the pattern to match the Python code block\n",
        "    pattern = re.compile(r'```python(.*?)```', re.DOTALL)\n",
        "\n",
        "    # Search for the code block\n",
        "    match = pattern.search(llm_response)\n",
        "\n",
        "    if match:\n",
        "        # Extract the code\n",
        "        code = match.group(1).strip()\n",
        "        return code\n",
        "    else:\n",
        "        return \"No Python code found in the response.\"\n",
        "\n",
        "# Example LLM response\n",
        "code = extract_code(llm_response.content)\n",
        "exec(code)"
      ],
      "metadata": {
        "cellView": "form",
        "colab": {
          "base_uri": "https://localhost:8080/",
          "height": 1000
        },
        "id": "uOKa35CqIEJt",
        "outputId": "c4e189d5-4f40-476d-fb65-7239502b7ce3"
      },
      "execution_count": 78,
      "outputs": [
        {
          "output_type": "display_data",
          "data": {
            "image/svg+xml": "<?xml version=\"1.0\" encoding=\"UTF-8\" standalone=\"no\"?>\n<!DOCTYPE svg PUBLIC \"-//W3C//DTD SVG 1.1//EN\"\n \"http://www.w3.org/Graphics/SVG/1.1/DTD/svg11.dtd\">\n<!-- Generated by graphviz version 2.43.0 (0)\n -->\n<!-- Title: %3 Pages: 1 -->\n<svg width=\"612pt\" height=\"720pt\"\n viewBox=\"0.00 0.00 612.37 720.00\" xmlns=\"http://www.w3.org/2000/svg\" xmlns:xlink=\"http://www.w3.org/1999/xlink\">\n<g id=\"graph0\" class=\"graph\" transform=\"scale(1.03 1.03) rotate(0) translate(4 739)\">\n<title>%3</title>\n<polygon fill=\"white\" stroke=\"transparent\" points=\"-4,4 -4,-739 627.94,-739 627.94,4 -4,4\"/>\n<!-- Literature_Review -->\n<g id=\"node1\" class=\"node\">\n<title>Literature_Review</title>\n<ellipse fill=\"none\" stroke=\"black\" cx=\"192.19\" cy=\"-717\" rx=\"74.99\" ry=\"18\"/>\n<text text-anchor=\"middle\" x=\"192.19\" y=\"-713.3\" font-family=\"Times,serif\" font-size=\"14.00\">Literature Review</text>\n</g>\n<!-- Target_Identification -->\n<g id=\"node2\" class=\"node\">\n<title>Target_Identification</title>\n<ellipse fill=\"none\" stroke=\"black\" cx=\"83.19\" cy=\"-630\" rx=\"83.39\" ry=\"18\"/>\n<text text-anchor=\"middle\" x=\"83.19\" y=\"-626.3\" font-family=\"Times,serif\" font-size=\"14.00\">Target Identification</text>\n</g>\n<!-- Literature_Review&#45;&gt;Target_Identification -->\n<g id=\"edge1\" class=\"edge\">\n<title>Literature_Review&#45;&gt;Target_Identification</title>\n<path fill=\"none\" stroke=\"black\" d=\"M171.18,-699.61C154.55,-686.64 131.12,-668.38 112.63,-653.95\"/>\n<polygon fill=\"black\" stroke=\"black\" points=\"114.55,-651.02 104.52,-647.63 110.25,-656.54 114.55,-651.02\"/>\n<text text-anchor=\"middle\" x=\"166.69\" y=\"-669.8\" font-family=\"Times,serif\" font-size=\"14.00\">informs</text>\n</g>\n<!-- Ligand_Information_Gathering -->\n<g id=\"node4\" class=\"node\">\n<title>Ligand_Information_Gathering</title>\n<ellipse fill=\"none\" stroke=\"black\" cx=\"302.19\" cy=\"-630\" rx=\"118.08\" ry=\"18\"/>\n<text text-anchor=\"middle\" x=\"302.19\" y=\"-626.3\" font-family=\"Times,serif\" font-size=\"14.00\">Ligand Information Gathering</text>\n</g>\n<!-- Literature_Review&#45;&gt;Ligand_Information_Gathering -->\n<g id=\"edge3\" class=\"edge\">\n<title>Literature_Review&#45;&gt;Ligand_Information_Gathering</title>\n<path fill=\"none\" stroke=\"black\" d=\"M213.4,-699.61C230.15,-686.67 253.73,-668.45 272.38,-654.04\"/>\n<polygon fill=\"black\" stroke=\"black\" points=\"274.52,-656.8 280.3,-647.92 270.24,-651.27 274.52,-656.8\"/>\n<text text-anchor=\"middle\" x=\"272.19\" y=\"-669.8\" font-family=\"Times,serif\" font-size=\"14.00\">guides</text>\n</g>\n<!-- Control_Selection -->\n<g id=\"node3\" class=\"node\">\n<title>Control_Selection</title>\n<ellipse fill=\"none\" stroke=\"black\" cx=\"83.19\" cy=\"-543\" rx=\"72.59\" ry=\"18\"/>\n<text text-anchor=\"middle\" x=\"83.19\" y=\"-539.3\" font-family=\"Times,serif\" font-size=\"14.00\">Control Selection</text>\n</g>\n<!-- Target_Identification&#45;&gt;Control_Selection -->\n<g id=\"edge2\" class=\"edge\">\n<title>Target_Identification&#45;&gt;Control_Selection</title>\n<path fill=\"none\" stroke=\"black\" d=\"M83.19,-611.8C83.19,-600.16 83.19,-584.55 83.19,-571.24\"/>\n<polygon fill=\"black\" stroke=\"black\" points=\"86.69,-571.18 83.19,-561.18 79.69,-571.18 86.69,-571.18\"/>\n<text text-anchor=\"middle\" x=\"104.69\" y=\"-582.8\" font-family=\"Times,serif\" font-size=\"14.00\">informs</text>\n</g>\n<!-- Ligand_Preparation -->\n<g id=\"node5\" class=\"node\">\n<title>Ligand_Preparation</title>\n<ellipse fill=\"none\" stroke=\"black\" cx=\"302.19\" cy=\"-543\" rx=\"78.79\" ry=\"18\"/>\n<text text-anchor=\"middle\" x=\"302.19\" y=\"-539.3\" font-family=\"Times,serif\" font-size=\"14.00\">Ligand Preparation</text>\n</g>\n<!-- Ligand_Information_Gathering&#45;&gt;Ligand_Preparation -->\n<g id=\"edge4\" class=\"edge\">\n<title>Ligand_Information_Gathering&#45;&gt;Ligand_Preparation</title>\n<path fill=\"none\" stroke=\"black\" d=\"M302.19,-611.8C302.19,-600.16 302.19,-584.55 302.19,-571.24\"/>\n<polygon fill=\"black\" stroke=\"black\" points=\"305.69,-571.18 302.19,-561.18 298.69,-571.18 305.69,-571.18\"/>\n</g>\n<!-- Binding_Site_Identification -->\n<g id=\"node6\" class=\"node\">\n<title>Binding_Site_Identification</title>\n<ellipse fill=\"none\" stroke=\"black\" cx=\"179.19\" cy=\"-470\" rx=\"104.78\" ry=\"18\"/>\n<text text-anchor=\"middle\" x=\"179.19\" y=\"-466.3\" font-family=\"Times,serif\" font-size=\"14.00\">Binding Site Identification</text>\n</g>\n<!-- Ligand_Preparation&#45;&gt;Binding_Site_Identification -->\n<g id=\"edge5\" class=\"edge\">\n<title>Ligand_Preparation&#45;&gt;Binding_Site_Identification</title>\n<path fill=\"none\" stroke=\"black\" d=\"M274.59,-526.07C257.42,-516.16 235.14,-503.29 216.42,-492.49\"/>\n<polygon fill=\"black\" stroke=\"black\" points=\"217.97,-489.34 207.56,-487.37 214.47,-495.4 217.97,-489.34\"/>\n</g>\n<!-- Molecular_Docking -->\n<g id=\"node8\" class=\"node\">\n<title>Molecular_Docking</title>\n<ellipse fill=\"none\" stroke=\"black\" cx=\"382.19\" cy=\"-470\" rx=\"79.89\" ry=\"18\"/>\n<text text-anchor=\"middle\" x=\"382.19\" y=\"-466.3\" font-family=\"Times,serif\" font-size=\"14.00\">Molecular Docking</text>\n</g>\n<!-- Ligand_Preparation&#45;&gt;Molecular_Docking -->\n<g id=\"edge7\" class=\"edge\">\n<title>Ligand_Preparation&#45;&gt;Molecular_Docking</title>\n<path fill=\"none\" stroke=\"black\" d=\"M321.15,-525.17C331.51,-515.98 344.51,-504.45 355.84,-494.39\"/>\n<polygon fill=\"black\" stroke=\"black\" points=\"358.21,-496.96 363.37,-487.71 353.57,-491.73 358.21,-496.96\"/>\n</g>\n<!-- Grid_Generation -->\n<g id=\"node7\" class=\"node\">\n<title>Grid_Generation</title>\n<ellipse fill=\"none\" stroke=\"black\" cx=\"179.19\" cy=\"-397\" rx=\"68.49\" ry=\"18\"/>\n<text text-anchor=\"middle\" x=\"179.19\" y=\"-393.3\" font-family=\"Times,serif\" font-size=\"14.00\">Grid Generation</text>\n</g>\n<!-- Binding_Site_Identification&#45;&gt;Grid_Generation -->\n<g id=\"edge6\" class=\"edge\">\n<title>Binding_Site_Identification&#45;&gt;Grid_Generation</title>\n<path fill=\"none\" stroke=\"black\" d=\"M179.19,-451.81C179.19,-443.79 179.19,-434.05 179.19,-425.07\"/>\n<polygon fill=\"black\" stroke=\"black\" points=\"182.69,-425.03 179.19,-415.03 175.69,-425.03 182.69,-425.03\"/>\n</g>\n<!-- Docking_Score_Selection -->\n<g id=\"node9\" class=\"node\">\n<title>Docking_Score_Selection</title>\n<ellipse fill=\"none\" stroke=\"black\" cx=\"382.19\" cy=\"-397\" rx=\"98.58\" ry=\"18\"/>\n<text text-anchor=\"middle\" x=\"382.19\" y=\"-393.3\" font-family=\"Times,serif\" font-size=\"14.00\">Docking Score Selection</text>\n</g>\n<!-- Molecular_Docking&#45;&gt;Docking_Score_Selection -->\n<g id=\"edge8\" class=\"edge\">\n<title>Molecular_Docking&#45;&gt;Docking_Score_Selection</title>\n<path fill=\"none\" stroke=\"black\" d=\"M382.19,-451.81C382.19,-443.79 382.19,-434.05 382.19,-425.07\"/>\n<polygon fill=\"black\" stroke=\"black\" points=\"385.69,-425.03 382.19,-415.03 378.69,-425.03 385.69,-425.03\"/>\n</g>\n<!-- Molecular_Dynamics_Setup -->\n<g id=\"node10\" class=\"node\">\n<title>Molecular_Dynamics_Setup</title>\n<ellipse fill=\"none\" stroke=\"black\" cx=\"382.19\" cy=\"-310\" rx=\"108.58\" ry=\"18\"/>\n<text text-anchor=\"middle\" x=\"382.19\" y=\"-306.3\" font-family=\"Times,serif\" font-size=\"14.00\">Molecular Dynamics Setup</text>\n</g>\n<!-- Docking_Score_Selection&#45;&gt;Molecular_Dynamics_Setup -->\n<g id=\"edge9\" class=\"edge\">\n<title>Docking_Score_Selection&#45;&gt;Molecular_Dynamics_Setup</title>\n<path fill=\"none\" stroke=\"black\" d=\"M382.19,-378.8C382.19,-367.16 382.19,-351.55 382.19,-338.24\"/>\n<polygon fill=\"black\" stroke=\"black\" points=\"385.69,-338.18 382.19,-328.18 378.69,-338.18 385.69,-338.18\"/>\n<text text-anchor=\"middle\" x=\"400.69\" y=\"-349.8\" font-family=\"Times,serif\" font-size=\"14.00\">selects</text>\n</g>\n<!-- Topology_Generation -->\n<g id=\"node11\" class=\"node\">\n<title>Topology_Generation</title>\n<ellipse fill=\"none\" stroke=\"black\" cx=\"370.19\" cy=\"-237\" rx=\"85.59\" ry=\"18\"/>\n<text text-anchor=\"middle\" x=\"370.19\" y=\"-233.3\" font-family=\"Times,serif\" font-size=\"14.00\">Topology Generation</text>\n</g>\n<!-- Molecular_Dynamics_Setup&#45;&gt;Topology_Generation -->\n<g id=\"edge10\" class=\"edge\">\n<title>Molecular_Dynamics_Setup&#45;&gt;Topology_Generation</title>\n<path fill=\"none\" stroke=\"black\" d=\"M379.29,-291.81C377.93,-283.79 376.29,-274.05 374.77,-265.07\"/>\n<polygon fill=\"black\" stroke=\"black\" points=\"378.19,-264.31 373.07,-255.03 371.29,-265.47 378.19,-264.31\"/>\n</g>\n<!-- System_Assembly -->\n<g id=\"node12\" class=\"node\">\n<title>System_Assembly</title>\n<ellipse fill=\"none\" stroke=\"black\" cx=\"549.19\" cy=\"-237\" rx=\"74.99\" ry=\"18\"/>\n<text text-anchor=\"middle\" x=\"549.19\" y=\"-233.3\" font-family=\"Times,serif\" font-size=\"14.00\">System Assembly</text>\n</g>\n<!-- Molecular_Dynamics_Setup&#45;&gt;System_Assembly -->\n<g id=\"edge11\" class=\"edge\">\n<title>Molecular_Dynamics_Setup&#45;&gt;System_Assembly</title>\n<path fill=\"none\" stroke=\"black\" d=\"M419.67,-293.07C444.85,-282.36 478.15,-268.2 504.68,-256.92\"/>\n<polygon fill=\"black\" stroke=\"black\" points=\"506.29,-260.04 514.12,-252.91 503.55,-253.6 506.29,-260.04\"/>\n</g>\n<!-- Equilibration -->\n<g id=\"node13\" class=\"node\">\n<title>Equilibration</title>\n<ellipse fill=\"none\" stroke=\"black\" cx=\"549.19\" cy=\"-164\" rx=\"57.39\" ry=\"18\"/>\n<text text-anchor=\"middle\" x=\"549.19\" y=\"-160.3\" font-family=\"Times,serif\" font-size=\"14.00\">Equilibration</text>\n</g>\n<!-- System_Assembly&#45;&gt;Equilibration -->\n<g id=\"edge12\" class=\"edge\">\n<title>System_Assembly&#45;&gt;Equilibration</title>\n<path fill=\"none\" stroke=\"black\" d=\"M549.19,-218.81C549.19,-210.79 549.19,-201.05 549.19,-192.07\"/>\n<polygon fill=\"black\" stroke=\"black\" points=\"552.69,-192.03 549.19,-182.03 545.69,-192.03 552.69,-192.03\"/>\n</g>\n<!-- Production_Run -->\n<g id=\"node14\" class=\"node\">\n<title>Production_Run</title>\n<ellipse fill=\"none\" stroke=\"black\" cx=\"549.19\" cy=\"-91\" rx=\"66.09\" ry=\"18\"/>\n<text text-anchor=\"middle\" x=\"549.19\" y=\"-87.3\" font-family=\"Times,serif\" font-size=\"14.00\">Production Run</text>\n</g>\n<!-- Equilibration&#45;&gt;Production_Run -->\n<g id=\"edge13\" class=\"edge\">\n<title>Equilibration&#45;&gt;Production_Run</title>\n<path fill=\"none\" stroke=\"black\" d=\"M549.19,-145.81C549.19,-137.79 549.19,-128.05 549.19,-119.07\"/>\n<polygon fill=\"black\" stroke=\"black\" points=\"552.69,-119.03 549.19,-109.03 545.69,-119.03 552.69,-119.03\"/>\n</g>\n<!-- Data_Analysis -->\n<g id=\"node15\" class=\"node\">\n<title>Data_Analysis</title>\n<ellipse fill=\"none\" stroke=\"black\" cx=\"549.19\" cy=\"-18\" rx=\"59.59\" ry=\"18\"/>\n<text text-anchor=\"middle\" x=\"549.19\" y=\"-14.3\" font-family=\"Times,serif\" font-size=\"14.00\">Data Analysis</text>\n</g>\n<!-- Production_Run&#45;&gt;Data_Analysis -->\n<g id=\"edge14\" class=\"edge\">\n<title>Production_Run&#45;&gt;Data_Analysis</title>\n<path fill=\"none\" stroke=\"black\" d=\"M549.19,-72.81C549.19,-64.79 549.19,-55.05 549.19,-46.07\"/>\n<polygon fill=\"black\" stroke=\"black\" points=\"552.69,-46.03 549.19,-36.03 545.69,-46.03 552.69,-46.03\"/>\n</g>\n</g>\n</svg>\n",
            "text/plain": [
              "<graphviz.graphs.Digraph at 0x7dbe7d073910>"
            ]
          },
          "metadata": {}
        }
      ]
    },
    {
      "cell_type": "code",
      "source": [
        "dot"
      ],
      "metadata": {
        "colab": {
          "base_uri": "https://localhost:8080/",
          "height": 120
        },
        "id": "1jpyeXgAMYaQ",
        "outputId": "e055f2bc-070c-4ba0-b006-5c906d5224b2"
      },
      "execution_count": 71,
      "outputs": [
        {
          "output_type": "execute_result",
          "data": {
            "image/svg+xml": "<?xml version=\"1.0\" encoding=\"UTF-8\" standalone=\"no\"?>\n<!DOCTYPE svg PUBLIC \"-//W3C//DTD SVG 1.1//EN\"\n \"http://www.w3.org/Graphics/SVG/1.1/DTD/svg11.dtd\">\n<!-- Generated by graphviz version 2.43.0 (0)\n -->\n<!-- Title: %3 Pages: 1 -->\n<svg width=\"720pt\" height=\"59pt\"\n viewBox=\"0.00 0.00 720.00 58.74\" xmlns=\"http://www.w3.org/2000/svg\" xmlns:xlink=\"http://www.w3.org/1999/xlink\">\n<g id=\"graph0\" class=\"graph\" transform=\"scale(3.05 3.05) rotate(0) translate(4 175)\">\n<title>%3</title>\n<polygon fill=\"white\" stroke=\"transparent\" points=\"-4,4 -4,-175 2189.96,-175 2189.96,4 -4,4\"/>\n<!-- LR -->\n<g id=\"node1\" class=\"node\">\n<title>LR</title>\n<ellipse fill=\"none\" stroke=\"black\" cx=\"98.79\" cy=\"-99\" rx=\"74.99\" ry=\"18\"/>\n<text text-anchor=\"middle\" x=\"98.79\" y=\"-95.3\" font-family=\"Times,serif\" font-size=\"14.00\">Literature Review</text>\n</g>\n<!-- TI -->\n<g id=\"node2\" class=\"node\">\n<title>TI</title>\n<ellipse fill=\"none\" stroke=\"black\" cx=\"394.87\" cy=\"-126\" rx=\"83.39\" ry=\"18\"/>\n<text text-anchor=\"middle\" x=\"394.87\" y=\"-122.3\" font-family=\"Times,serif\" font-size=\"14.00\">Target Identification</text>\n</g>\n<!-- LR&#45;&gt;TI -->\n<g id=\"edge1\" class=\"edge\">\n<title>LR&#45;&gt;TI</title>\n<path fill=\"none\" stroke=\"black\" d=\"M169.11,-105.36C210.62,-109.18 263.73,-114.05 307.9,-118.11\"/>\n<polygon fill=\"black\" stroke=\"black\" points=\"307.77,-121.61 318.05,-119.04 308.41,-114.64 307.77,-121.61\"/>\n<text text-anchor=\"middle\" x=\"237.08\" y=\"-116.8\" font-family=\"Times,serif\" font-size=\"14.00\">informs</text>\n</g>\n<!-- LIG -->\n<g id=\"node4\" class=\"node\">\n<title>LIG</title>\n<ellipse fill=\"none\" stroke=\"black\" cx=\"394.87\" cy=\"-72\" rx=\"118.08\" ry=\"18\"/>\n<text text-anchor=\"middle\" x=\"394.87\" y=\"-68.3\" font-family=\"Times,serif\" font-size=\"14.00\">Ligand Information Gathering</text>\n</g>\n<!-- LR&#45;&gt;LIG -->\n<g id=\"edge3\" class=\"edge\">\n<title>LR&#45;&gt;LIG</title>\n<path fill=\"none\" stroke=\"black\" d=\"M169.11,-92.64C203.09,-89.52 244.85,-85.68 283.11,-82.17\"/>\n<polygon fill=\"black\" stroke=\"black\" points=\"283.63,-85.64 293.27,-81.24 282.99,-78.67 283.63,-85.64\"/>\n<text text-anchor=\"middle\" x=\"237.08\" y=\"-90.8\" font-family=\"Times,serif\" font-size=\"14.00\">guides</text>\n</g>\n<!-- CS -->\n<g id=\"node3\" class=\"node\">\n<title>CS</title>\n<ellipse fill=\"none\" stroke=\"black\" cx=\"670.8\" cy=\"-126\" rx=\"72.59\" ry=\"18\"/>\n<text text-anchor=\"middle\" x=\"670.8\" y=\"-122.3\" font-family=\"Times,serif\" font-size=\"14.00\">Control Selection</text>\n</g>\n<!-- TI&#45;&gt;CS -->\n<g id=\"edge2\" class=\"edge\">\n<title>TI&#45;&gt;CS</title>\n<path fill=\"none\" stroke=\"black\" d=\"M478.43,-126C512.99,-126 553.06,-126 587.58,-126\"/>\n<polygon fill=\"black\" stroke=\"black\" points=\"587.63,-129.5 597.63,-126 587.63,-122.5 587.63,-129.5\"/>\n<text text-anchor=\"middle\" x=\"552.66\" y=\"-129.8\" font-family=\"Times,serif\" font-size=\"14.00\">informs</text>\n</g>\n<!-- LP -->\n<g id=\"node5\" class=\"node\">\n<title>LP</title>\n<ellipse fill=\"none\" stroke=\"black\" cx=\"670.8\" cy=\"-72\" rx=\"78.79\" ry=\"18\"/>\n<text text-anchor=\"middle\" x=\"670.8\" y=\"-68.3\" font-family=\"Times,serif\" font-size=\"14.00\">Ligand Preparation</text>\n</g>\n<!-- LIG&#45;&gt;LP -->\n<g id=\"edge4\" class=\"edge\">\n<title>LIG&#45;&gt;LP</title>\n<path fill=\"none\" stroke=\"black\" d=\"M513.24,-72C536.18,-72 559.87,-72 581.66,-72\"/>\n<polygon fill=\"black\" stroke=\"black\" points=\"581.86,-75.5 591.86,-72 581.86,-68.5 581.86,-75.5\"/>\n<text text-anchor=\"middle\" x=\"552.66\" y=\"-75.8\" font-family=\"Times,serif\" font-size=\"14.00\">uses</text>\n</g>\n<!-- BSI -->\n<g id=\"node6\" class=\"node\">\n<title>BSI</title>\n<ellipse fill=\"none\" stroke=\"black\" cx=\"914.09\" cy=\"-99\" rx=\"104.78\" ry=\"18\"/>\n<text text-anchor=\"middle\" x=\"914.09\" y=\"-95.3\" font-family=\"Times,serif\" font-size=\"14.00\">Binding Site Identification</text>\n</g>\n<!-- LP&#45;&gt;BSI -->\n<g id=\"edge5\" class=\"edge\">\n<title>LP&#45;&gt;BSI</title>\n<path fill=\"none\" stroke=\"black\" d=\"M741.92,-79.85C765.03,-82.43 791.16,-85.36 815.92,-88.13\"/>\n<polygon fill=\"black\" stroke=\"black\" points=\"815.74,-91.63 826.07,-89.26 816.52,-84.67 815.74,-91.63\"/>\n<text text-anchor=\"middle\" x=\"779.45\" y=\"-87.8\" font-family=\"Times,serif\" font-size=\"14.00\">uses</text>\n</g>\n<!-- MD -->\n<g id=\"node8\" class=\"node\">\n<title>MD</title>\n<ellipse fill=\"none\" stroke=\"black\" cx=\"914.09\" cy=\"-45\" rx=\"79.89\" ry=\"18\"/>\n<text text-anchor=\"middle\" x=\"914.09\" y=\"-41.3\" font-family=\"Times,serif\" font-size=\"14.00\">Molecular Docking</text>\n</g>\n<!-- LP&#45;&gt;MD -->\n<g id=\"edge7\" class=\"edge\">\n<title>LP&#45;&gt;MD</title>\n<path fill=\"none\" stroke=\"black\" d=\"M741.92,-64.15C770.05,-61.01 802.65,-57.36 831.81,-54.1\"/>\n<polygon fill=\"black\" stroke=\"black\" points=\"832.41,-57.55 841.96,-52.96 831.64,-50.59 832.41,-57.55\"/>\n<text text-anchor=\"middle\" x=\"779.45\" y=\"-63.8\" font-family=\"Times,serif\" font-size=\"14.00\">uses</text>\n</g>\n<!-- GG -->\n<g id=\"node7\" class=\"node\">\n<title>GG</title>\n<ellipse fill=\"none\" stroke=\"black\" cx=\"1200.27\" cy=\"-99\" rx=\"68.49\" ry=\"18\"/>\n<text text-anchor=\"middle\" x=\"1200.27\" y=\"-95.3\" font-family=\"Times,serif\" font-size=\"14.00\">Grid Generation</text>\n</g>\n<!-- BSI&#45;&gt;GG -->\n<g id=\"edge6\" class=\"edge\">\n<title>BSI&#45;&gt;GG</title>\n<path fill=\"none\" stroke=\"black\" d=\"M1018.89,-99C1052.94,-99 1090.16,-99 1121.9,-99\"/>\n<polygon fill=\"black\" stroke=\"black\" points=\"1122.01,-102.5 1132.01,-99 1122.01,-95.5 1122.01,-102.5\"/>\n<text text-anchor=\"middle\" x=\"1055.23\" y=\"-102.8\" font-family=\"Times,serif\" font-size=\"14.00\">uses</text>\n</g>\n<!-- MDSetup -->\n<g id=\"node10\" class=\"node\">\n<title>MDSetup</title>\n<ellipse fill=\"none\" stroke=\"black\" cx=\"1200.27\" cy=\"-45\" rx=\"108.58\" ry=\"18\"/>\n<text text-anchor=\"middle\" x=\"1200.27\" y=\"-41.3\" font-family=\"Times,serif\" font-size=\"14.00\">Molecular Dynamics Setup</text>\n</g>\n<!-- MD&#45;&gt;MDSetup -->\n<g id=\"edge8\" class=\"edge\">\n<title>MD&#45;&gt;MDSetup</title>\n<path fill=\"none\" stroke=\"black\" d=\"M994.25,-45C1021.21,-45 1051.95,-45 1081.29,-45\"/>\n<polygon fill=\"black\" stroke=\"black\" points=\"1081.59,-48.5 1091.59,-45 1081.59,-41.5 1081.59,-48.5\"/>\n<text text-anchor=\"middle\" x=\"1055.23\" y=\"-48.8\" font-family=\"Times,serif\" font-size=\"14.00\">selects</text>\n</g>\n<!-- MDS -->\n<g id=\"node9\" class=\"node\">\n<title>MDS</title>\n<ellipse fill=\"none\" stroke=\"black\" cx=\"98.79\" cy=\"-153\" rx=\"98.58\" ry=\"18\"/>\n<text text-anchor=\"middle\" x=\"98.79\" y=\"-149.3\" font-family=\"Times,serif\" font-size=\"14.00\">Docking Score Selection</text>\n</g>\n<!-- TG -->\n<g id=\"node11\" class=\"node\">\n<title>TG</title>\n<ellipse fill=\"none\" stroke=\"black\" cx=\"1486.6\" cy=\"-72\" rx=\"85.59\" ry=\"18\"/>\n<text text-anchor=\"middle\" x=\"1486.6\" y=\"-68.3\" font-family=\"Times,serif\" font-size=\"14.00\">Topology Generation</text>\n</g>\n<!-- MDSetup&#45;&gt;TG -->\n<g id=\"edge9\" class=\"edge\">\n<title>MDSetup&#45;&gt;TG</title>\n<path fill=\"none\" stroke=\"black\" d=\"M1294.76,-53.88C1328.06,-57.04 1365.41,-60.59 1398.18,-63.7\"/>\n<polygon fill=\"black\" stroke=\"black\" points=\"1397.91,-67.19 1408.19,-64.65 1398.57,-60.22 1397.91,-67.19\"/>\n<text text-anchor=\"middle\" x=\"1354.81\" y=\"-64.8\" font-family=\"Times,serif\" font-size=\"14.00\">prepares</text>\n</g>\n<!-- SA -->\n<g id=\"node12\" class=\"node\">\n<title>SA</title>\n<ellipse fill=\"none\" stroke=\"black\" cx=\"1486.6\" cy=\"-18\" rx=\"74.99\" ry=\"18\"/>\n<text text-anchor=\"middle\" x=\"1486.6\" y=\"-14.3\" font-family=\"Times,serif\" font-size=\"14.00\">System Assembly</text>\n</g>\n<!-- MDSetup&#45;&gt;SA -->\n<g id=\"edge10\" class=\"edge\">\n<title>MDSetup&#45;&gt;SA</title>\n<path fill=\"none\" stroke=\"black\" d=\"M1294.76,-36.12C1331,-32.68 1372.04,-28.78 1406.75,-25.49\"/>\n<polygon fill=\"black\" stroke=\"black\" points=\"1407.21,-28.96 1416.84,-24.53 1406.55,-21.99 1407.21,-28.96\"/>\n<text text-anchor=\"middle\" x=\"1354.81\" y=\"-35.8\" font-family=\"Times,serif\" font-size=\"14.00\">assembles</text>\n</g>\n<!-- EQ -->\n<g id=\"node13\" class=\"node\">\n<title>EQ</title>\n<ellipse fill=\"none\" stroke=\"black\" cx=\"1711.59\" cy=\"-18\" rx=\"57.39\" ry=\"18\"/>\n<text text-anchor=\"middle\" x=\"1711.59\" y=\"-14.3\" font-family=\"Times,serif\" font-size=\"14.00\">Equilibration</text>\n</g>\n<!-- SA&#45;&gt;EQ -->\n<g id=\"edge11\" class=\"edge\">\n<title>SA&#45;&gt;EQ</title>\n<path fill=\"none\" stroke=\"black\" d=\"M1561.54,-18C1588.18,-18 1618.06,-18 1644.02,-18\"/>\n<polygon fill=\"black\" stroke=\"black\" points=\"1644.14,-21.5 1654.14,-18 1644.14,-14.5 1644.14,-21.5\"/>\n<text text-anchor=\"middle\" x=\"1613.39\" y=\"-21.8\" font-family=\"Times,serif\" font-size=\"14.00\">prepares</text>\n</g>\n<!-- PR -->\n<g id=\"node14\" class=\"node\">\n<title>PR</title>\n<ellipse fill=\"none\" stroke=\"black\" cx=\"1914.08\" cy=\"-18\" rx=\"66.09\" ry=\"18\"/>\n<text text-anchor=\"middle\" x=\"1914.08\" y=\"-14.3\" font-family=\"Times,serif\" font-size=\"14.00\">Production Run</text>\n</g>\n<!-- EQ&#45;&gt;PR -->\n<g id=\"edge12\" class=\"edge\">\n<title>EQ&#45;&gt;PR</title>\n<path fill=\"none\" stroke=\"black\" d=\"M1768.97,-18C1790.16,-18 1814.61,-18 1837.29,-18\"/>\n<polygon fill=\"black\" stroke=\"black\" points=\"1837.56,-21.5 1847.56,-18 1837.56,-14.5 1837.56,-21.5\"/>\n<text text-anchor=\"middle\" x=\"1808.28\" y=\"-21.8\" font-family=\"Times,serif\" font-size=\"14.00\">leads to</text>\n</g>\n<!-- DA -->\n<g id=\"node15\" class=\"node\">\n<title>DA</title>\n<ellipse fill=\"none\" stroke=\"black\" cx=\"2126.17\" cy=\"-18\" rx=\"59.59\" ry=\"18\"/>\n<text text-anchor=\"middle\" x=\"2126.17\" y=\"-14.3\" font-family=\"Times,serif\" font-size=\"14.00\">Data Analysis</text>\n</g>\n<!-- PR&#45;&gt;DA -->\n<g id=\"edge13\" class=\"edge\">\n<title>PR&#45;&gt;DA</title>\n<path fill=\"none\" stroke=\"black\" d=\"M1980.4,-18C2004.43,-18 2031.71,-18 2056.07,-18\"/>\n<polygon fill=\"black\" stroke=\"black\" points=\"2056.31,-21.5 2066.31,-18 2056.31,-14.5 2056.31,-21.5\"/>\n<text text-anchor=\"middle\" x=\"2023.37\" y=\"-21.8\" font-family=\"Times,serif\" font-size=\"14.00\">results in</text>\n</g>\n</g>\n</svg>\n",
            "text/plain": [
              "<graphviz.graphs.Digraph at 0x7dbe7d053fd0>"
            ]
          },
          "metadata": {},
          "execution_count": 71
        }
      ]
    },
    {
      "cell_type": "code",
      "source": [
        "!rm *"
      ],
      "metadata": {
        "colab": {
          "base_uri": "https://localhost:8080/"
        },
        "id": "pEsO-PJgMKsE",
        "outputId": "b99c27a5-fc05-403d-b565-817a49455bd7"
      },
      "execution_count": 66,
      "outputs": [
        {
          "output_type": "stream",
          "name": "stdout",
          "text": [
            "rm: cannot remove 'sample_data': Is a directory\n"
          ]
        }
      ]
    },
    {
      "cell_type": "code",
      "source": [
        "from graphviz import Digraph\n",
        "\n",
        "# Initialize a Digraph object\n",
        "dot = Digraph()\n",
        "\n",
        "# Adding nodes with unique identifiers and descriptions\n",
        "dot.node('A', 'Start')\n",
        "dot.node('B', 'Step 1: Data Collection')\n",
        "dot.node('C', 'Step 2: Data Cleaning')\n",
        "dot.node('D', 'End')\n",
        "\n",
        "# Adding edges with descriptions of the relationships\n",
        "dot.edge('A', 'B', 'initiates')\n",
        "dot.edge('B', 'C', 'follows')\n",
        "dot.edge('C', 'D', 'concludes')\n",
        "\n",
        "# Set graph aesthetic properties (optional)\n",
        "dot.attr(rankdir='LR', size='10')\n",
        "\n",
        "# Render and display the graph within the Jupyter notebook\n",
        "dot"
      ],
      "metadata": {
        "colab": {
          "base_uri": "https://localhost:8080/",
          "height": 99
        },
        "id": "UQqVtYOxJQs_",
        "outputId": "e69f3f9e-d599-44fc-9e79-05ac80a57de3"
      },
      "execution_count": 59,
      "outputs": [
        {
          "output_type": "execute_result",
          "data": {
            "image/svg+xml": "<?xml version=\"1.0\" encoding=\"UTF-8\" standalone=\"no\"?>\n<!DOCTYPE svg PUBLIC \"-//W3C//DTD SVG 1.1//EN\"\n \"http://www.w3.org/Graphics/SVG/1.1/DTD/svg11.dtd\">\n<!-- Generated by graphviz version 2.43.0 (0)\n -->\n<!-- Title: %3 Pages: 1 -->\n<svg width=\"720pt\" height=\"43pt\"\n viewBox=\"0.00 0.00 720.00 43.46\" xmlns=\"http://www.w3.org/2000/svg\" xmlns:xlink=\"http://www.w3.org/1999/xlink\">\n<g id=\"graph0\" class=\"graph\" transform=\"scale(1.01 1.01) rotate(0) translate(4 40)\">\n<title>%3</title>\n<polygon fill=\"white\" stroke=\"transparent\" points=\"-4,4 -4,-40 724.86,-40 724.86,4 -4,4\"/>\n<!-- A -->\n<g id=\"node1\" class=\"node\">\n<title>A</title>\n<ellipse fill=\"none\" stroke=\"black\" cx=\"27.3\" cy=\"-18\" rx=\"27.1\" ry=\"18\"/>\n<text text-anchor=\"middle\" x=\"27.3\" y=\"-14.3\" font-family=\"Times,serif\" font-size=\"14.00\">Start</text>\n</g>\n<!-- B -->\n<g id=\"node2\" class=\"node\">\n<title>B</title>\n<ellipse fill=\"none\" stroke=\"black\" cx=\"227.19\" cy=\"-18\" rx=\"93.68\" ry=\"18\"/>\n<text text-anchor=\"middle\" x=\"227.19\" y=\"-14.3\" font-family=\"Times,serif\" font-size=\"14.00\">Step 1: Data Collection</text>\n</g>\n<!-- A&#45;&gt;B -->\n<g id=\"edge1\" class=\"edge\">\n<title>A&#45;&gt;B</title>\n<path fill=\"none\" stroke=\"black\" d=\"M54.99,-18C72.96,-18 97.93,-18 123.25,-18\"/>\n<polygon fill=\"black\" stroke=\"black\" points=\"123.34,-21.5 133.34,-18 123.34,-14.5 123.34,-21.5\"/>\n<text text-anchor=\"middle\" x=\"94.1\" y=\"-21.8\" font-family=\"Times,serif\" font-size=\"14.00\">initiates</text>\n</g>\n<!-- C -->\n<g id=\"node3\" class=\"node\">\n<title>C</title>\n<ellipse fill=\"none\" stroke=\"black\" cx=\"486.82\" cy=\"-18\" rx=\"89.08\" ry=\"18\"/>\n<text text-anchor=\"middle\" x=\"486.82\" y=\"-14.3\" font-family=\"Times,serif\" font-size=\"14.00\">Step 2: Data Cleaning</text>\n</g>\n<!-- B&#45;&gt;C -->\n<g id=\"edge2\" class=\"edge\">\n<title>B&#45;&gt;C</title>\n<path fill=\"none\" stroke=\"black\" d=\"M320.83,-18C342.38,-18 365.39,-18 387.19,-18\"/>\n<polygon fill=\"black\" stroke=\"black\" points=\"387.44,-21.5 397.44,-18 387.44,-14.5 387.44,-21.5\"/>\n<text text-anchor=\"middle\" x=\"359.28\" y=\"-21.8\" font-family=\"Times,serif\" font-size=\"14.00\">follows</text>\n</g>\n<!-- D -->\n<g id=\"node4\" class=\"node\">\n<title>D</title>\n<ellipse fill=\"none\" stroke=\"black\" cx=\"693.86\" cy=\"-18\" rx=\"27\" ry=\"18\"/>\n<text text-anchor=\"middle\" x=\"693.86\" y=\"-14.3\" font-family=\"Times,serif\" font-size=\"14.00\">End</text>\n</g>\n<!-- C&#45;&gt;D -->\n<g id=\"edge3\" class=\"edge\">\n<title>C&#45;&gt;D</title>\n<path fill=\"none\" stroke=\"black\" d=\"M575.97,-18C604.26,-18 634.05,-18 656.48,-18\"/>\n<polygon fill=\"black\" stroke=\"black\" points=\"656.54,-21.5 666.54,-18 656.54,-14.5 656.54,-21.5\"/>\n<text text-anchor=\"middle\" x=\"621.36\" y=\"-21.8\" font-family=\"Times,serif\" font-size=\"14.00\">concludes</text>\n</g>\n</g>\n</svg>\n",
            "text/plain": [
              "<graphviz.graphs.Digraph at 0x7dbe7d026920>"
            ]
          },
          "metadata": {},
          "execution_count": 59
        }
      ]
    },
    {
      "cell_type": "markdown",
      "source": [],
      "metadata": {
        "id": "GAKyuov5qC2B"
      }
    }
  ]
}